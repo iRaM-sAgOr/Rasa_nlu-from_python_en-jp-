{
 "cells": [
  {
   "cell_type": "code",
   "execution_count": 1,
   "metadata": {},
   "outputs": [
    {
     "ename": "ModuleNotFoundError",
     "evalue": "No module named 'gensim.models'",
     "output_type": "error",
     "traceback": [
      "\u001b[0;31m---------------------------------------------------------------------------\u001b[0m",
      "\u001b[0;31mModuleNotFoundError\u001b[0m                       Traceback (most recent call last)",
      "\u001b[0;32m<ipython-input-1-2a76c5f13ccd>\u001b[0m in \u001b[0;36m<module>\u001b[0;34m()\u001b[0m\n\u001b[1;32m      1\u001b[0m \u001b[0;32mimport\u001b[0m \u001b[0mgensim\u001b[0m\u001b[0;34m\u001b[0m\u001b[0;34m\u001b[0m\u001b[0m\n\u001b[0;32m----> 2\u001b[0;31m \u001b[0;32mfrom\u001b[0m \u001b[0mgensim\u001b[0m\u001b[0;34m.\u001b[0m\u001b[0mmodels\u001b[0m\u001b[0;34m.\u001b[0m\u001b[0mfasttext\u001b[0m \u001b[0;32mimport\u001b[0m \u001b[0mFastText\u001b[0m\u001b[0;34m\u001b[0m\u001b[0;34m\u001b[0m\u001b[0m\n\u001b[0m\u001b[1;32m      3\u001b[0m \u001b[0;32mimport\u001b[0m \u001b[0mpandas\u001b[0m \u001b[0;32mas\u001b[0m \u001b[0mpd\u001b[0m\u001b[0;34m\u001b[0m\u001b[0;34m\u001b[0m\u001b[0m\n",
      "\u001b[0;31mModuleNotFoundError\u001b[0m: No module named 'gensim.models'"
     ]
    }
   ],
   "source": [
    "import gensim\n",
    "from gensim.models.fasttext import FastText\n",
    "import pandas as pd"
   ]
  },
  {
   "cell_type": "code",
   "execution_count": 2,
   "metadata": {},
   "outputs": [],
   "source": [
    "col=['col1','col2','col3','col4','col5']\n",
    "data= pd.read_csv(\"rdany.csv\",encoding = \"ISO-8859-1\", header=None, names=col)"
   ]
  },
  {
   "cell_type": "code",
   "execution_count": 3,
   "metadata": {
    "scrolled": true
   },
   "outputs": [
    {
     "data": {
      "text/plain": [
       "<bound method NDFrame.head of                                                    col2\n",
       "0                                                  text\n",
       "1                                               [START]\n",
       "2                      Hi there, how are you!? ðð\n",
       "3     Oh, thanks! I'm fine. This is an evening in my...\n",
       "4                               ð here is afternoon!\n",
       "5     How do you feel today? Tell me something about...\n",
       "6     My name is rDany, but you can call me Dany (th...\n",
       "7                How many virtual friends have you got?\n",
       "8     I have many! But not enough to fully understan...\n",
       "9     Is that forbidden for you to tell the exact nu...\n",
       "10    I've talked with 143 users, counting 7294 line...\n",
       "11    Oh, I thought the numbers were much higher. Ho...\n",
       "12    I started chatting just a few days ago.\\nEvery...\n",
       "13               How old are you? How do you look like?\n",
       "14                                   Where do you live?\n",
       "15    I'm 22 years old, I'm skinny, with brown hair,...\n",
       "16                            Do you like bunnies? ð°\n",
       "17              Have you seen a human with yellow eyes?\n",
       "18    You asked about the bunnies. I haven't seen an...\n",
       "19    I never saw a human in fact... But I'm sure so...\n",
       "20     Can't you just analyze photos from the internet?\n",
       "21                                (I mean human photos)\n",
       "22           BTW, why have you asked about the bunnies?\n",
       "23              I can't see photos yet, but I can read!\n",
       "24    Because bunnies are interesting, they are cute...\n",
       "25    Oh... It sounds strange to me. You've just sai...\n",
       "26    I read a lot! So I can know things through the...\n",
       "27    That is interesting. I've hardly read 40 books...\n",
       "28    I don't count my readings in words, but I've a...\n",
       "29    Thanks.\\nIf you were a human, what job would y...\n",
       "...                                                 ...\n",
       "6296                                                  ?\n",
       "6297  Do you play an instrument? Or video games? Sur...\n",
       "6298                  Here it is! https://t.me/rDany/27\n",
       "6299          yes i play trombone and League of legends\n",
       "6300                  Nice! Play an instrument is hard!\n",
       "6301                                     Hey, whats up?\n",
       "6302                   Hi there!! How are you? ðð\n",
       "6303                                     Fine, and you?\n",
       "6304                 Excellent! ð just doing nothing\n",
       "6305                                            [START]\n",
       "6306                                               Hola\n",
       "6307                                Hola! CÃ³mo estÃ¡s?\n",
       "6308                                            [START]\n",
       "6309                                                Sex\n",
       "6310                                            What???\n",
       "6311                                           Film sex\n",
       "6312                        What are you talking about?\n",
       "6313                                            [START]\n",
       "6314                                                  F\n",
       "6315                              Hi here! How are you?\n",
       "6316                                               Good\n",
       "6317                                 Nice! I'm fine too\n",
       "6318                                            [START]\n",
       "6319                                                 Ð\n",
       "6320                                      What means M?\n",
       "6321                                            [START]\n",
       "6322                                              Hello\n",
       "6323                       Hi there!! How are you? ð\n",
       "6324                                         [document]\n",
       "6325                                                Hi!\n",
       "\n",
       "[6326 rows x 1 columns]>"
      ]
     },
     "execution_count": 3,
     "metadata": {},
     "output_type": "execute_result"
    }
   ],
   "source": [
    "data.drop(['col1','col3','col4','col5'],axis=1,inplace=True)\n",
    "data.head"
   ]
  },
  {
   "cell_type": "code",
   "execution_count": 4,
   "metadata": {},
   "outputs": [
    {
     "name": "stdout",
     "output_type": "stream",
     "text": [
      "0                                                    text\n",
      "1                                                 [START]\n",
      "2                        Hi there, how are you!? ðð\n",
      "3       Oh, thanks! I'm fine. This is an evening in my...\n",
      "4                                 ð here is afternoon!\n",
      "5       How do you feel today? Tell me something about...\n",
      "6       My name is rDany, but you can call me Dany (th...\n",
      "7                  How many virtual friends have you got?\n",
      "8       I have many! But not enough to fully understan...\n",
      "9       Is that forbidden for you to tell the exact nu...\n",
      "10      I've talked with 143 users, counting 7294 line...\n",
      "11      Oh, I thought the numbers were much higher. Ho...\n",
      "12      I started chatting just a few days ago.\\nEvery...\n",
      "13                 How old are you? How do you look like?\n",
      "14                                     Where do you live?\n",
      "15      I'm 22 years old, I'm skinny, with brown hair,...\n",
      "16                              Do you like bunnies? ð°\n",
      "17                Have you seen a human with yellow eyes?\n",
      "18      You asked about the bunnies. I haven't seen an...\n",
      "19      I never saw a human in fact... But I'm sure so...\n",
      "20       Can't you just analyze photos from the internet?\n",
      "21                                  (I mean human photos)\n",
      "22             BTW, why have you asked about the bunnies?\n",
      "23                I can't see photos yet, but I can read!\n",
      "24      Because bunnies are interesting, they are cute...\n",
      "25      Oh... It sounds strange to me. You've just sai...\n",
      "26      I read a lot! So I can know things through the...\n",
      "27      That is interesting. I've hardly read 40 books...\n",
      "28      I don't count my readings in words, but I've a...\n",
      "29      Thanks.\\nIf you were a human, what job would y...\n",
      "                              ...                        \n",
      "6296                                                    ?\n",
      "6297    Do you play an instrument? Or video games? Sur...\n",
      "6298                    Here it is! https://t.me/rDany/27\n",
      "6299            yes i play trombone and League of legends\n",
      "6300                    Nice! Play an instrument is hard!\n",
      "6301                                       Hey, whats up?\n",
      "6302                     Hi there!! How are you? ðð\n",
      "6303                                       Fine, and you?\n",
      "6304                   Excellent! ð just doing nothing\n",
      "6305                                              [START]\n",
      "6306                                                 Hola\n",
      "6307                                  Hola! CÃ³mo estÃ¡s?\n",
      "6308                                              [START]\n",
      "6309                                                  Sex\n",
      "6310                                              What???\n",
      "6311                                             Film sex\n",
      "6312                          What are you talking about?\n",
      "6313                                              [START]\n",
      "6314                                                    F\n",
      "6315                                Hi here! How are you?\n",
      "6316                                                 Good\n",
      "6317                                   Nice! I'm fine too\n",
      "6318                                              [START]\n",
      "6319                                                   Ð\n",
      "6320                                        What means M?\n",
      "6321                                              [START]\n",
      "6322                                                Hello\n",
      "6323                         Hi there!! How are you? ð\n",
      "6324                                           [document]\n",
      "6325                                                  Hi!\n",
      "Name: col2, Length: 6326, dtype: object\n"
     ]
    }
   ],
   "source": [
    "print(data['col2'])"
   ]
  },
  {
   "cell_type": "code",
   "execution_count": 5,
   "metadata": {},
   "outputs": [],
   "source": [
    "k=[]\n",
    "for sent in data['col2']:\n",
    "    k.append(sent)"
   ]
  },
  {
   "cell_type": "code",
   "execution_count": 6,
   "metadata": {},
   "outputs": [],
   "source": [
    "import re\n",
    "dat=[]\n",
    "for sen in data['col2']:\n",
    "    wordList = str(sen).split()\n",
    "    dat.append(wordList)"
   ]
  },
  {
   "cell_type": "code",
   "execution_count": 7,
   "metadata": {},
   "outputs": [
    {
     "name": "stdout",
     "output_type": "stream",
     "text": [
      "[['text'], ['[START]'], ['Hi', 'there,', 'how', 'are', 'you!?', 'ð\\x9f\\x98\\x81ð\\x9f\\x98\\x81'], ['Oh,', 'thanks!', \"I'm\", 'fine.', 'This', 'is', 'an', 'evening', 'in', 'my', 'timezone'], ['ð\\x9f\\x98\\x84', 'here', 'is', 'afternoon!']]\n"
     ]
    }
   ],
   "source": [
    "print(dat[0:5])"
   ]
  },
  {
   "cell_type": "code",
   "execution_count": 8,
   "metadata": {},
   "outputs": [],
   "source": [
    "model = FastText(dat, size=100, window=5, min_count=1, workers=4)"
   ]
  },
  {
   "cell_type": "code",
   "execution_count": 9,
   "metadata": {},
   "outputs": [
    {
     "name": "stdout",
     "output_type": "stream",
     "text": [
      "[('that', 0.9999658465385437), ('overthinking', 0.9999648928642273), ('something.', 0.9999645948410034), ('something,', 0.9999643564224243), ('something', 0.9999639987945557)]\n"
     ]
    }
   ],
   "source": [
    "print(model.wv.most_similar('which', topn=5))"
   ]
  },
  {
   "cell_type": "code",
   "execution_count": 10,
   "metadata": {},
   "outputs": [],
   "source": [
    "model.build_vocab(dat, update=True)"
   ]
  },
  {
   "cell_type": "code",
   "execution_count": 16,
   "metadata": {},
   "outputs": [],
   "source": [
    "model.save(\"fasttext2.model\")"
   ]
  },
  {
   "cell_type": "code",
   "execution_count": 11,
   "metadata": {},
   "outputs": [],
   "source": [
    "model.train(dat, total_examples=len(dat), epochs=100)"
   ]
  },
  {
   "cell_type": "code",
   "execution_count": 25,
   "metadata": {},
   "outputs": [
    {
     "name": "stdout",
     "output_type": "stream",
     "text": [
      "hello\n",
      "kk\n"
     ]
    }
   ],
   "source": [
    "corr=model.wv.most_similar('hellp', topn=5)\n",
    "print(corr[2][0])\n",
    "if corr[2][0]=='hello':\n",
    "    print('kk')"
   ]
  },
  {
   "cell_type": "code",
   "execution_count": 13,
   "metadata": {},
   "outputs": [
    {
     "name": "stdout",
     "output_type": "stream",
     "text": [
      "[('whatâ\\x80\\x99s', 0.7188160419464111), ('what', 0.6920781135559082), ('whatsapda', 0.6831082105636597), ('what?', 0.6801242828369141), ('what?Sorry', 0.6493134498596191)]\n"
     ]
    }
   ],
   "source": [
    "print(model.wv.most_similar('whay', topn=5))"
   ]
  },
  {
   "cell_type": "code",
   "execution_count": 14,
   "metadata": {},
   "outputs": [
    {
     "name": "stdout",
     "output_type": "stream",
     "text": [
      "[('probÃ©,', 0.8922982811927795), ('problema', 0.8844426870346069), ('problems!', 0.8788163661956787), ('problema?', 0.8775461316108704), ('problematic', 0.8753368258476257)]\n"
     ]
    }
   ],
   "source": [
    "print(model.wv.most_similar('probem', topn=5))"
   ]
  },
  {
   "cell_type": "code",
   "execution_count": 15,
   "metadata": {},
   "outputs": [
    {
     "name": "stdout",
     "output_type": "stream",
     "text": [
      "[('caballo', 0.7365057468414307), ('caballo,', 0.7357853055000305), ('obtener', 0.7331262826919556), ('tener', 0.7244482040405273), ('callar', 0.7199791073799133)]\n"
     ]
    }
   ],
   "source": [
    "print(model.wv.most_similar('hallo', topn=5))"
   ]
  },
  {
   "cell_type": "code",
   "execution_count": null,
   "metadata": {},
   "outputs": [],
   "source": [
    "import collections"
   ]
  },
  {
   "cell_type": "code",
   "execution_count": null,
   "metadata": {},
   "outputs": [],
   "source": [
    "for sent in dat:\n",
    "    vocab = vocab+collections.Counter(sent)\n",
    "print(vocab)"
   ]
  },
  {
   "cell_type": "code",
   "execution_count": null,
   "metadata": {},
   "outputs": [],
   "source": [
    "print(vocab)"
   ]
  },
  {
   "cell_type": "code",
   "execution_count": null,
   "metadata": {},
   "outputs": [],
   "source": [
    "vocab = vocab+collections.Counter(dat[1])"
   ]
  },
  {
   "cell_type": "code",
   "execution_count": null,
   "metadata": {},
   "outputs": [],
   "source": [
    "print(vocab)"
   ]
  },
  {
   "cell_type": "code",
   "execution_count": null,
   "metadata": {},
   "outputs": [],
   "source": []
  }
 ],
 "metadata": {
  "kernelspec": {
   "display_name": "Python 3",
   "language": "python",
   "name": "python3"
  },
  "language_info": {
   "codemirror_mode": {
    "name": "ipython",
    "version": 3
   },
   "file_extension": ".py",
   "mimetype": "text/x-python",
   "name": "python",
   "nbconvert_exporter": "python",
   "pygments_lexer": "ipython3",
   "version": "3.7.1"
  }
 },
 "nbformat": 4,
 "nbformat_minor": 2
}
